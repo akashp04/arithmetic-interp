{
 "cells": [
  {
   "cell_type": "markdown",
   "metadata": {},
   "source": [
    "## Setup"
   ]
  },
  {
   "cell_type": "code",
   "execution_count": 2,
   "metadata": {},
   "outputs": [],
   "source": [
    "from openai import OpenAI\n",
    "import pandas as pd\n",
    "from tqdm import tqdm\n",
    "import csv\n",
    "import json\n",
    "from time import sleep\n",
    "import os\n",
    "import matplotlib.pyplot as plt\n",
    "from pathlib import Path"
   ]
  },
  {
   "cell_type": "code",
   "execution_count": 2,
   "metadata": {},
   "outputs": [],
   "source": [
    "keys = json.load(open(\"keys.json\"))\n",
    "DEEPINFRA_API_KEY = keys[\"DEEPINFRA_API_KEY\"]"
   ]
  },
  {
   "cell_type": "code",
   "execution_count": 3,
   "metadata": {},
   "outputs": [],
   "source": [
    "openai = OpenAI(\n",
    "    api_key=DEEPINFRA_API_KEY,\n",
    "    base_url=\"https://api.deepinfra.com/v1/openai\",\n",
    ")"
   ]
  },
  {
   "cell_type": "code",
   "execution_count": 4,
   "metadata": {},
   "outputs": [],
   "source": [
    "def generate_response(\n",
    "    model,\n",
    "    prompt,\n",
    "    system_prompt=\"You're a helpful assistant\",\n",
    "    suffix_prompt='',\n",
    "    model_config=None\n",
    "):\n",
    "    \"\"\"\n",
    "    Returns the response from the model\n",
    "\n",
    "    Args:\n",
    "        model (str): Model name\n",
    "        prompt (str): prompt text\n",
    "        system_prompt (str): System prompt\n",
    "        suffix_prompt (str): Suffix prompt to append to the prompt\n",
    "        model_config (dict): Model parameters\n",
    "    Returns:\n",
    "        response_text (str): Response text from the model\n",
    "        final_answer (str): Final numerical answer\n",
    "    \"\"\"\n",
    "    chat_completion = openai.chat.completions.create(\n",
    "        model=model,\n",
    "        messages=[\n",
    "            { \"role\": \"system\", \"content\": system_prompt },\n",
    "            { \"role\": \"user\", \"content\": prompt + suffix_prompt },\n",
    "        ],\n",
    "        **model_config\n",
    "    )\n",
    "    response_text = chat_completion.choices[0].message.content\n",
    "    final_answer = response_text.split(\"#### \")[-1].strip()\n",
    "\n",
    "    try:\n",
    "        cleaned_answer = final_answer.replace(\",\", \"\")  # remove commas\n",
    "        cleaned_answer = cleaned_answer.replace(\"$\", \"\")    # remove dollar signs\n",
    "        final_answer = float(cleaned_answer)\n",
    "    except Exception:\n",
    "        pass\n",
    "\n",
    "    return (response_text, final_answer)"
   ]
  },
  {
   "cell_type": "code",
   "execution_count": 5,
   "metadata": {},
   "outputs": [],
   "source": [
    "def save_results(filepath, results, model, model_config, system_prompt, suffix_prompt):\n",
    "    # Add config details to results\n",
    "    results_with_config = {}\n",
    "    results_with_config[\"config\"] = {\n",
    "        \"model\": model,\n",
    "        \"model_config\": model_config,\n",
    "        \"prompt_config\": {\n",
    "            \"system_prompt\": system_prompt,\n",
    "            \"suffix_prompt\": suffix_prompt\n",
    "        }\n",
    "    }\n",
    "    results_with_config[\"results\"] = results\n",
    "\n",
    "    with open(filepath, \"w\") as fd:\n",
    "        json.dump(results_with_config, fd, indent=4)\n",
    "\n",
    "    print(f\"Results saved to {filepath}\")"
   ]
  },
  {
   "cell_type": "markdown",
   "metadata": {},
   "source": [
    "## Sample Inference"
   ]
  },
  {
   "cell_type": "code",
   "execution_count": 6,
   "metadata": {},
   "outputs": [],
   "source": [
    "model = \"meta-llama/Meta-Llama-3.1-8B-Instruct\"\n",
    "system_prompt = \"You are a helpful assistant. Do not use or generate code in your responses.\""
   ]
  },
  {
   "cell_type": "code",
   "execution_count": 7,
   "metadata": {},
   "outputs": [],
   "source": [
    "question = \"What is 546588 + 493181?\"\n",
    "suffix_prompt = \"\\n Also append the final numerical answer on a new line append with '#### '\""
   ]
  },
  {
   "cell_type": "code",
   "execution_count": 10,
   "metadata": {},
   "outputs": [],
   "source": [
    "chat_completion = openai.chat.completions.create(\n",
    "    model=model,\n",
    "    messages=[\n",
    "        { \"role\": \"system\", \"content\": system_prompt },\n",
    "        { \"role\": \"user\", \"content\": question + suffix_prompt },\n",
    "    ]\n",
    ")"
   ]
  },
  {
   "cell_type": "code",
   "execution_count": 11,
   "metadata": {},
   "outputs": [
    {
     "name": "stdout",
     "output_type": "stream",
     "text": [
      "The result of the calculation is 1039769.\n",
      "\n",
      "#### 1039769\n"
     ]
    }
   ],
   "source": [
    "print(chat_completion.choices[0].message.content)"
   ]
  },
  {
   "cell_type": "code",
   "execution_count": 13,
   "metadata": {},
   "outputs": [],
   "source": [
    "model_config = {\n",
    "    \"max_tokens\": 512,   # max number of completion tokens, including visible output tokens and reasoning tokens\n",
    "    \"max_completion_tokens\": 512,   # max number of completion tokens, including visible output tokens and reasoning tokens\n",
    "    \"stream\": False,            # whether to stream the output via SSE or return the full response\n",
    "    \"temperature\": 0.7,         # sampling temperature to use, between 0 and 2\n",
    "    \"top_p\": 0.9,               # considers the results of the tokens with top_p probability mass\n",
    "    \"n\": 1,                     # number of sequences to generate\n",
    "    \"presence_penalty\": 0.0,    # penalize new tokens based on whether they appear in the text so far, increasing the model's likelihood to talk about new topics\n",
    "    \"frequency_penalty\": 0.0,   # penalize new tokens based on their existing frequency in the text so far, decreasing the model's likelihood to repeat the same line verbatim\n",
    "    \"tools\": [],                # A list of tools the model may call. Currently, only functions are supported as a tool.\n",
    "    \"tool_choice\": None,        # None: no function call, auto: model can pick between generating a message or calling a function\n",
    "    \"seed\": 0\n",
    "}"
   ]
  },
  {
   "cell_type": "code",
   "execution_count": 14,
   "metadata": {},
   "outputs": [],
   "source": [
    "def generate_response(\n",
    "    model,\n",
    "    prompt,\n",
    "    system_prompt=\"You're a helpful assistant\",\n",
    "    suffix_prompt='',\n",
    "    model_config=None\n",
    "):\n",
    "    \"\"\"\n",
    "    Returns the response from the model\n",
    "\n",
    "    Args:\n",
    "        model (str): Model name\n",
    "        prompt (str): prompt text\n",
    "        system_prompt (str): System prompt\n",
    "        suffix_prompt (str): Suffix prompt to append to the prompt\n",
    "        model_config (dict): Model parameters\n",
    "    Returns:\n",
    "        response_text (str): Response text from the model\n",
    "        final_answer (str): Final numerical answer\n",
    "    \"\"\"\n",
    "    chat_completion = openai.chat.completions.create(\n",
    "        model=model,\n",
    "        messages=[\n",
    "            { \"role\": \"system\", \"content\": system_prompt },\n",
    "            { \"role\": \"user\", \"content\": prompt + suffix_prompt },\n",
    "        ],\n",
    "        **model_config\n",
    "    )\n",
    "    response_text = chat_completion.choices[0].message.content\n",
    "    final_answer = response_text.split(\"#### \")[-1].strip()\n",
    "\n",
    "    try:\n",
    "        cleaned_answer = final_answer.replace(\",\", \"\")  # remove commas\n",
    "        cleaned_answer = cleaned_answer.replace(\"$\", \"\")    # remove dollar signs\n",
    "        final_answer = float(cleaned_answer)\n",
    "    except Exception:\n",
    "        pass\n",
    "\n",
    "    return (response_text, final_answer)"
   ]
  },
  {
   "cell_type": "code",
   "execution_count": 15,
   "metadata": {},
   "outputs": [
    {
     "name": "stdout",
     "output_type": "stream",
     "text": [
      "response_text: To calculate the sum, I'll add 546588 and 493181.\n",
      "\n",
      "546588 + 493181 = 1,039,769\n",
      "\n",
      "#### 1039769\n",
      "final_answer: 1039769.0\n"
     ]
    }
   ],
   "source": [
    "response_text, final_answer = generate_response(model, question, system_prompt=system_prompt, suffix_prompt=suffix_prompt, model_config=model_config)\n",
    "print(f\"response_text: {response_text}\")\n",
    "print(f\"final_answer: {final_answer}\")"
   ]
  },
  {
   "cell_type": "markdown",
   "metadata": {},
   "source": [
    "## Arithmetic Length Generalization Dataset (ALGD) Inference"
   ]
  },
  {
   "cell_type": "code",
   "execution_count": 16,
   "metadata": {},
   "outputs": [],
   "source": [
    "model = \"meta-llama/Meta-Llama-3.1-8B-Instruct\"\n",
    "system_prompt = \"You are a helpful assistant. Do not use or generate code in your responses.\"\n",
    "suffix_prompt = \"\\n Also append the final numerical answer on a new line append with '#### '\""
   ]
  },
  {
   "cell_type": "code",
   "execution_count": null,
   "metadata": {},
   "outputs": [],
   "source": [
    "\n",
    "\"You are a helpful assistant. Do not use or generate code in your responses. Also append the final numerical answer on a new line append with '#### '\""
   ]
  },
  {
   "cell_type": "code",
   "execution_count": 17,
   "metadata": {},
   "outputs": [],
   "source": [
    "model_config = {\n",
    "    \"max_tokens\": 512,   # max number of completion tokens, including visible output tokens and reasoning tokens\n",
    "    \"max_completion_tokens\": 512,   # max number of completion tokens, including visible output tokens and reasoning tokens\n",
    "    \"stream\": False,            # whether to stream the output via SSE or return the full response\n",
    "    \"temperature\": 0.7,         # sampling temperature to use, between 0 and 2\n",
    "    \"top_p\": 0.9,               # considers the results of the tokens with top_p probability mass\n",
    "    \"n\": 1,                     # number of sequences to generate\n",
    "    \"presence_penalty\": 0.0,    # penalize new tokens based on whether they appear in the text so far, increasing the model's likelihood to talk about new topics\n",
    "    \"frequency_penalty\": 0.0,   # penalize new tokens based on their existing frequency in the text so far, decreasing the model's likelihood to repeat the same line verbatim\n",
    "    \"tools\": [],                # A list of tools the model may call. Currently, only functions are supported as a tool.\n",
    "    \"tool_choice\": None,        # None: no function call, auto: model can pick between generating a message or calling a function\n",
    "    \"seed\": 0\n",
    "}"
   ]
  },
  {
   "cell_type": "code",
   "execution_count": null,
   "metadata": {},
   "outputs": [],
   "source": [
    "def evaluate_file(file_path):\n",
    "    # Load CSV file into a DataFrame\n",
    "    data = pd.read_csv(file_path)\n",
    "\n",
    "    # Assuming the file has \"Question\" and \"Answer\" columns\n",
    "    correct_count = 0\n",
    "    results = []\n",
    "\n",
    "    for _, row in tqdm(data.iterrows(), total=len(data)):\n",
    "        question = row[\"Question\"]\n",
    "        correct_answer = row[\"Answer\"]\n",
    "\n",
    "        # convert to float\n",
    "        correct_answer = float(correct_answer)\n",
    "\n",
    "        # Get GPT-4's answer\n",
    "        response_text, predicted_final_answer = generate_response(\n",
    "            model,\n",
    "            question,\n",
    "            system_prompt=system_prompt,\n",
    "            suffix_prompt=suffix_prompt,\n",
    "            model_config=model_config\n",
    "        )\n",
    "\n",
    "        # Evaluate correctness\n",
    "        is_correct = predicted_final_answer == correct_answer\n",
    "\n",
    "        if is_correct:\n",
    "            correct_count += 1\n",
    "\n",
    "        # Append result\n",
    "        results.append({\n",
    "            \"Question\": question,\n",
    "            \"Response Text\": response_text,\n",
    "            \"Predicted Answer\": predicted_final_answer,\n",
    "            \"Correct Answer\": correct_answer,\n",
    "            \"Is Correct\": is_correct\n",
    "        })\n",
    "\n",
    "        sleep(1)    # sleep to avoid rate limiting\n",
    "\n",
    "    # Calculate accuracy\n",
    "    total_questions = len(data)\n",
    "    accuracy = (correct_count / total_questions) * 100\n",
    "    print(f\"Accuracy for {file_path.split('/')[-1]}: {accuracy:.2f}%\")\n",
    "\n",
    "    # Save results for this file\n",
    "    output_file = file_path.replace(\".csv\", \"_evaluation_results.csv\")\n",
    "    with open(output_file, \"w\", newline=\"\") as csvfile:\n",
    "        fieldnames = [\"Question\", \"Response Text\", \"Predicted Answer\", \"Correct Answer\", \"Is Correct\"]\n",
    "        writer = csv.DictWriter(csvfile, fieldnames=fieldnames)\n",
    "        writer.writeheader()\n",
    "        for result in results:\n",
    "            writer.writerow(result)\n",
    "\n",
    "    print(f\"Results for {file_path} saved to {output_file}\")"
   ]
  },
  {
   "cell_type": "markdown",
   "metadata": {},
   "source": [
    "### Addition"
   ]
  },
  {
   "cell_type": "code",
   "execution_count": 21,
   "metadata": {},
   "outputs": [],
   "source": [
    "file_paths = [\n",
    "    '/Users/ashish/Documents/academic/fall24/nlp/project/arithmetic-ood/algd/dataset/add/1-d-add.csv',\n",
    "    '/Users/ashish/Documents/academic/fall24/nlp/project/arithmetic-ood/algd/dataset/add/2-d-add.csv',\n",
    "    '/Users/ashish/Documents/academic/fall24/nlp/project/arithmetic-ood/algd/dataset/add/3-d-add.csv',\n",
    "    '/Users/ashish/Documents/academic/fall24/nlp/project/arithmetic-ood/algd/dataset/add/4-d-add.csv',\n",
    "    '/Users/ashish/Documents/academic/fall24/nlp/project/arithmetic-ood/algd/dataset/add/5-d-add.csv',\n",
    "    '/Users/ashish/Documents/academic/fall24/nlp/project/arithmetic-ood/algd/dataset/add/6-d-add.csv',\n",
    "    '/Users/ashish/Documents/academic/fall24/nlp/project/arithmetic-ood/algd/dataset/add/7-d-add.csv'\n",
    "]"
   ]
  },
  {
   "cell_type": "code",
   "execution_count": 22,
   "metadata": {},
   "outputs": [
    {
     "name": "stderr",
     "output_type": "stream",
     "text": [
      "100%|██████████| 100/100 [02:19<00:00,  1.39s/it]\n"
     ]
    },
    {
     "name": "stdout",
     "output_type": "stream",
     "text": [
      "Accuracy for 1-d-add.csv: 100.00%\n",
      "Results for /Users/ashish/Documents/academic/fall24/nlp/project/arithmetic-ood/algd/dataset/add/1-d-add.csv saved to /Users/ashish/Documents/academic/fall24/nlp/project/arithmetic-ood/algd/dataset/add/1-d-add_evaluation_results.csv\n"
     ]
    },
    {
     "name": "stderr",
     "output_type": "stream",
     "text": [
      "100%|██████████| 100/100 [02:26<00:00,  1.47s/it]\n"
     ]
    },
    {
     "name": "stdout",
     "output_type": "stream",
     "text": [
      "Accuracy for 2-d-add.csv: 100.00%\n",
      "Results for /Users/ashish/Documents/academic/fall24/nlp/project/arithmetic-ood/algd/dataset/add/2-d-add.csv saved to /Users/ashish/Documents/academic/fall24/nlp/project/arithmetic-ood/algd/dataset/add/2-d-add_evaluation_results.csv\n"
     ]
    },
    {
     "name": "stderr",
     "output_type": "stream",
     "text": [
      "100%|██████████| 100/100 [02:33<00:00,  1.53s/it]\n"
     ]
    },
    {
     "name": "stdout",
     "output_type": "stream",
     "text": [
      "Accuracy for 3-d-add.csv: 97.00%\n",
      "Results for /Users/ashish/Documents/academic/fall24/nlp/project/arithmetic-ood/algd/dataset/add/3-d-add.csv saved to /Users/ashish/Documents/academic/fall24/nlp/project/arithmetic-ood/algd/dataset/add/3-d-add_evaluation_results.csv\n"
     ]
    },
    {
     "name": "stderr",
     "output_type": "stream",
     "text": [
      "100%|██████████| 100/100 [02:34<00:00,  1.55s/it]\n"
     ]
    },
    {
     "name": "stdout",
     "output_type": "stream",
     "text": [
      "Accuracy for 4-d-add.csv: 97.00%\n",
      "Results for /Users/ashish/Documents/academic/fall24/nlp/project/arithmetic-ood/algd/dataset/add/4-d-add.csv saved to /Users/ashish/Documents/academic/fall24/nlp/project/arithmetic-ood/algd/dataset/add/4-d-add_evaluation_results.csv\n"
     ]
    },
    {
     "name": "stderr",
     "output_type": "stream",
     "text": [
      "100%|██████████| 100/100 [02:36<00:00,  1.57s/it]\n"
     ]
    },
    {
     "name": "stdout",
     "output_type": "stream",
     "text": [
      "Accuracy for 5-d-add.csv: 91.00%\n",
      "Results for /Users/ashish/Documents/academic/fall24/nlp/project/arithmetic-ood/algd/dataset/add/5-d-add.csv saved to /Users/ashish/Documents/academic/fall24/nlp/project/arithmetic-ood/algd/dataset/add/5-d-add_evaluation_results.csv\n"
     ]
    },
    {
     "name": "stderr",
     "output_type": "stream",
     "text": [
      "100%|██████████| 100/100 [02:39<00:00,  1.60s/it]\n"
     ]
    },
    {
     "name": "stdout",
     "output_type": "stream",
     "text": [
      "Accuracy for 6-d-add.csv: 96.00%\n",
      "Results for /Users/ashish/Documents/academic/fall24/nlp/project/arithmetic-ood/algd/dataset/add/6-d-add.csv saved to /Users/ashish/Documents/academic/fall24/nlp/project/arithmetic-ood/algd/dataset/add/6-d-add_evaluation_results.csv\n"
     ]
    },
    {
     "name": "stderr",
     "output_type": "stream",
     "text": [
      "100%|██████████| 100/100 [02:36<00:00,  1.57s/it]"
     ]
    },
    {
     "name": "stdout",
     "output_type": "stream",
     "text": [
      "Accuracy for 7-d-add.csv: 82.00%\n",
      "Results for /Users/ashish/Documents/academic/fall24/nlp/project/arithmetic-ood/algd/dataset/add/7-d-add.csv saved to /Users/ashish/Documents/academic/fall24/nlp/project/arithmetic-ood/algd/dataset/add/7-d-add_evaluation_results.csv\n"
     ]
    },
    {
     "name": "stderr",
     "output_type": "stream",
     "text": [
      "\n"
     ]
    }
   ],
   "source": [
    "for file_path in file_paths:\n",
    "    evaluate_file(file_path)"
   ]
  },
  {
   "cell_type": "markdown",
   "metadata": {},
   "source": [
    "### Multiplication"
   ]
  },
  {
   "cell_type": "code",
   "execution_count": 23,
   "metadata": {},
   "outputs": [],
   "source": [
    "file_paths = [\n",
    "    '/Users/ashish/Documents/academic/fall24/nlp/project/arithmetic-ood/algd/dataset/multiply/1-d-MUL.csv',\n",
    "    '/Users/ashish/Documents/academic/fall24/nlp/project/arithmetic-ood/algd/dataset/multiply/2-d-MUL.csv',\n",
    "    '/Users/ashish/Documents/academic/fall24/nlp/project/arithmetic-ood/algd/dataset/multiply/3-d-MUL.csv',\n",
    "    '/Users/ashish/Documents/academic/fall24/nlp/project/arithmetic-ood/algd/dataset/multiply/4-d-MUL.csv',\n",
    "    '/Users/ashish/Documents/academic/fall24/nlp/project/arithmetic-ood/algd/dataset/multiply/5-d-MUL.csv',\n",
    "    '/Users/ashish/Documents/academic/fall24/nlp/project/arithmetic-ood/algd/dataset/multiply/6-d-MUL.csv',\n",
    "    '/Users/ashish/Documents/academic/fall24/nlp/project/arithmetic-ood/algd/dataset/multiply/7-d-MUL.csv'\n",
    "]"
   ]
  },
  {
   "cell_type": "code",
   "execution_count": 24,
   "metadata": {},
   "outputs": [
    {
     "name": "stderr",
     "output_type": "stream",
     "text": [
      "100%|██████████| 100/100 [02:21<00:00,  1.42s/it]\n"
     ]
    },
    {
     "name": "stdout",
     "output_type": "stream",
     "text": [
      "Accuracy for 1-d-MUL.csv: 100.00%\n",
      "Results for /Users/ashish/Documents/academic/fall24/nlp/project/arithmetic-ood/algd/dataset/multiply/1-d-MUL.csv saved to /Users/ashish/Documents/academic/fall24/nlp/project/arithmetic-ood/algd/dataset/multiply/1-d-MUL_evaluation_results.csv\n"
     ]
    },
    {
     "name": "stderr",
     "output_type": "stream",
     "text": [
      "100%|██████████| 100/100 [02:35<00:00,  1.55s/it]\n"
     ]
    },
    {
     "name": "stdout",
     "output_type": "stream",
     "text": [
      "Accuracy for 2-d-MUL.csv: 83.00%\n",
      "Results for /Users/ashish/Documents/academic/fall24/nlp/project/arithmetic-ood/algd/dataset/multiply/2-d-MUL.csv saved to /Users/ashish/Documents/academic/fall24/nlp/project/arithmetic-ood/algd/dataset/multiply/2-d-MUL_evaluation_results.csv\n"
     ]
    },
    {
     "name": "stderr",
     "output_type": "stream",
     "text": [
      "100%|██████████| 100/100 [02:42<00:00,  1.63s/it]\n"
     ]
    },
    {
     "name": "stdout",
     "output_type": "stream",
     "text": [
      "Accuracy for 3-d-MUL.csv: 17.00%\n",
      "Results for /Users/ashish/Documents/academic/fall24/nlp/project/arithmetic-ood/algd/dataset/multiply/3-d-MUL.csv saved to /Users/ashish/Documents/academic/fall24/nlp/project/arithmetic-ood/algd/dataset/multiply/3-d-MUL_evaluation_results.csv\n"
     ]
    },
    {
     "name": "stderr",
     "output_type": "stream",
     "text": [
      "100%|██████████| 100/100 [03:03<00:00,  1.83s/it]\n"
     ]
    },
    {
     "name": "stdout",
     "output_type": "stream",
     "text": [
      "Accuracy for 4-d-MUL.csv: 2.00%\n",
      "Results for /Users/ashish/Documents/academic/fall24/nlp/project/arithmetic-ood/algd/dataset/multiply/4-d-MUL.csv saved to /Users/ashish/Documents/academic/fall24/nlp/project/arithmetic-ood/algd/dataset/multiply/4-d-MUL_evaluation_results.csv\n"
     ]
    },
    {
     "name": "stderr",
     "output_type": "stream",
     "text": [
      "100%|██████████| 100/100 [02:55<00:00,  1.75s/it]\n"
     ]
    },
    {
     "name": "stdout",
     "output_type": "stream",
     "text": [
      "Accuracy for 5-d-MUL.csv: 0.00%\n",
      "Results for /Users/ashish/Documents/academic/fall24/nlp/project/arithmetic-ood/algd/dataset/multiply/5-d-MUL.csv saved to /Users/ashish/Documents/academic/fall24/nlp/project/arithmetic-ood/algd/dataset/multiply/5-d-MUL_evaluation_results.csv\n"
     ]
    },
    {
     "name": "stderr",
     "output_type": "stream",
     "text": [
      "100%|██████████| 100/100 [03:00<00:00,  1.80s/it]\n"
     ]
    },
    {
     "name": "stdout",
     "output_type": "stream",
     "text": [
      "Accuracy for 6-d-MUL.csv: 0.00%\n",
      "Results for /Users/ashish/Documents/academic/fall24/nlp/project/arithmetic-ood/algd/dataset/multiply/6-d-MUL.csv saved to /Users/ashish/Documents/academic/fall24/nlp/project/arithmetic-ood/algd/dataset/multiply/6-d-MUL_evaluation_results.csv\n"
     ]
    },
    {
     "name": "stderr",
     "output_type": "stream",
     "text": [
      "100%|██████████| 100/100 [03:10<00:00,  1.90s/it]"
     ]
    },
    {
     "name": "stdout",
     "output_type": "stream",
     "text": [
      "Accuracy for 7-d-MUL.csv: 0.00%\n",
      "Results for /Users/ashish/Documents/academic/fall24/nlp/project/arithmetic-ood/algd/dataset/multiply/7-d-MUL.csv saved to /Users/ashish/Documents/academic/fall24/nlp/project/arithmetic-ood/algd/dataset/multiply/7-d-MUL_evaluation_results.csv\n"
     ]
    },
    {
     "name": "stderr",
     "output_type": "stream",
     "text": [
      "\n"
     ]
    }
   ],
   "source": [
    "for file_path in file_paths:\n",
    "    evaluate_file(file_path)"
   ]
  },
  {
   "cell_type": "markdown",
   "metadata": {},
   "source": [
    "## Plotting Results"
   ]
  },
  {
   "cell_type": "markdown",
   "metadata": {},
   "source": [
    "### Fixing the results"
   ]
  },
  {
   "cell_type": "code",
   "execution_count": 15,
   "metadata": {},
   "outputs": [],
   "source": [
    "def fix_results(file_path):\n",
    "    # Load CSV file into a DataFrame\n",
    "    data = pd.read_csv(file_path)\n",
    "\n",
    "    # Assuming the file has \"Question\" and \"Answer\" columns\n",
    "    correct_count = 0\n",
    "\n",
    "    for _, row in tqdm(data.iterrows(), total=len(data)):\n",
    "        predicted_answer = row[\"Predicted Answer\"]\n",
    "        correct_answer = row[\"Correct Answer\"]\n",
    "\n",
    "        # convert to integer\n",
    "        predicted_answer = int(float(predicted_answer))\n",
    "        correct_answer = int(float(correct_answer))\n",
    "\n",
    "        # Evaluate correctness\n",
    "        is_correct = predicted_answer == correct_answer\n",
    "\n",
    "        if is_correct:\n",
    "            correct_count += 1\n",
    "\n",
    "        data[\"Is Correct\"] = is_correct\n",
    "\n",
    "    # Calculate accuracy\n",
    "    total_questions = len(data)\n",
    "    accuracy = (correct_count / total_questions) * 100\n",
    "    print(f\"Accuracy for {file_path.name}: {accuracy:.2f}%\")\n",
    "\n",
    "    # Dump results back to file\n",
    "    with open(file_path, \"w\", newline=\"\") as csvfile:\n",
    "        data.to_csv(csvfile, index=False)\n",
    "\n",
    "    print(f\"Results for {file_path} saved to {file_path}\")"
   ]
  },
  {
   "cell_type": "code",
   "execution_count": 26,
   "metadata": {},
   "outputs": [],
   "source": [
    "results_dir = Path('/Users/ashish/Documents/academic/fall24/nlp/project/arithmetic-ood/algd/gemma-2b-it/')\n",
    "addition_results_dir = results_dir / 'add'\n",
    "multiplication_results_dir = results_dir / 'multiply'\n",
    "\n",
    "# get all csv files in the addition_results directory\n",
    "addition_files = list(addition_results_dir.glob('*.csv'))\n",
    "multiplication_files = list(multiplication_results_dir.glob('*.csv'))"
   ]
  },
  {
   "cell_type": "code",
   "execution_count": 23,
   "metadata": {},
   "outputs": [
    {
     "name": "stderr",
     "output_type": "stream",
     "text": [
      "100%|██████████| 100/100 [00:00<00:00, 163.92it/s]\n"
     ]
    },
    {
     "name": "stdout",
     "output_type": "stream",
     "text": [
      "Accuracy for 3-d-add_evaluation_results.csv: 95.00%\n",
      "Results for /Users/ashish/Documents/academic/fall24/nlp/project/arithmetic-ood/algd/gemma-2b-it/add/3-d-add_evaluation_results.csv saved to /Users/ashish/Documents/academic/fall24/nlp/project/arithmetic-ood/algd/gemma-2b-it/add/3-d-add_evaluation_results.csv\n"
     ]
    },
    {
     "name": "stderr",
     "output_type": "stream",
     "text": [
      "100%|██████████| 100/100 [00:00<00:00, 11922.07it/s]\n"
     ]
    },
    {
     "name": "stdout",
     "output_type": "stream",
     "text": [
      "Accuracy for 5-d-add_evaluation_results.csv: 60.00%\n",
      "Results for /Users/ashish/Documents/academic/fall24/nlp/project/arithmetic-ood/algd/gemma-2b-it/add/5-d-add_evaluation_results.csv saved to /Users/ashish/Documents/academic/fall24/nlp/project/arithmetic-ood/algd/gemma-2b-it/add/5-d-add_evaluation_results.csv\n"
     ]
    },
    {
     "name": "stderr",
     "output_type": "stream",
     "text": [
      "100%|██████████| 100/100 [00:00<00:00, 1009.43it/s]\n"
     ]
    },
    {
     "name": "stdout",
     "output_type": "stream",
     "text": [
      "Accuracy for 6-d-add_evaluation_results.csv: 43.00%\n",
      "Results for /Users/ashish/Documents/academic/fall24/nlp/project/arithmetic-ood/algd/gemma-2b-it/add/6-d-add_evaluation_results.csv saved to /Users/ashish/Documents/academic/fall24/nlp/project/arithmetic-ood/algd/gemma-2b-it/add/6-d-add_evaluation_results.csv\n"
     ]
    },
    {
     "name": "stderr",
     "output_type": "stream",
     "text": [
      "100%|██████████| 100/100 [00:01<00:00, 78.83it/s]\n"
     ]
    },
    {
     "name": "stdout",
     "output_type": "stream",
     "text": [
      "Accuracy for 7-d-add_evaluation_results.csv: 34.00%\n",
      "Results for /Users/ashish/Documents/academic/fall24/nlp/project/arithmetic-ood/algd/gemma-2b-it/add/7-d-add_evaluation_results.csv saved to /Users/ashish/Documents/academic/fall24/nlp/project/arithmetic-ood/algd/gemma-2b-it/add/7-d-add_evaluation_results.csv\n"
     ]
    },
    {
     "name": "stderr",
     "output_type": "stream",
     "text": [
      "100%|██████████| 100/100 [00:00<00:00, 207.04it/s]\n"
     ]
    },
    {
     "name": "stdout",
     "output_type": "stream",
     "text": [
      "Accuracy for 4-d-add_evaluation_results.csv: 76.00%\n",
      "Results for /Users/ashish/Documents/academic/fall24/nlp/project/arithmetic-ood/algd/gemma-2b-it/add/4-d-add_evaluation_results.csv saved to /Users/ashish/Documents/academic/fall24/nlp/project/arithmetic-ood/algd/gemma-2b-it/add/4-d-add_evaluation_results.csv\n"
     ]
    },
    {
     "name": "stderr",
     "output_type": "stream",
     "text": [
      "100%|██████████| 100/100 [00:00<00:00, 382.59it/s]\n"
     ]
    },
    {
     "name": "stdout",
     "output_type": "stream",
     "text": [
      "Accuracy for 2-d-add_evaluation_results.csv: 97.00%\n",
      "Results for /Users/ashish/Documents/academic/fall24/nlp/project/arithmetic-ood/algd/gemma-2b-it/add/2-d-add_evaluation_results.csv saved to /Users/ashish/Documents/academic/fall24/nlp/project/arithmetic-ood/algd/gemma-2b-it/add/2-d-add_evaluation_results.csv\n"
     ]
    },
    {
     "name": "stderr",
     "output_type": "stream",
     "text": [
      "100%|██████████| 100/100 [00:00<00:00, 127.60it/s]"
     ]
    },
    {
     "name": "stdout",
     "output_type": "stream",
     "text": [
      "Accuracy for 1-d-add_evaluation_results.csv: 100.00%\n",
      "Results for /Users/ashish/Documents/academic/fall24/nlp/project/arithmetic-ood/algd/gemma-2b-it/add/1-d-add_evaluation_results.csv saved to /Users/ashish/Documents/academic/fall24/nlp/project/arithmetic-ood/algd/gemma-2b-it/add/1-d-add_evaluation_results.csv\n"
     ]
    },
    {
     "name": "stderr",
     "output_type": "stream",
     "text": [
      "\n"
     ]
    }
   ],
   "source": [
    "for file_path in addition_files:\n",
    "    try:\n",
    "        fix_results(file_path)\n",
    "    except:\n",
    "        print(f\"Error processing {file_path}\")"
   ]
  },
  {
   "cell_type": "code",
   "execution_count": 30,
   "metadata": {},
   "outputs": [
    {
     "name": "stderr",
     "output_type": "stream",
     "text": [
      "  0%|          | 0/100 [00:00<?, ?it/s]"
     ]
    },
    {
     "name": "stderr",
     "output_type": "stream",
     "text": [
      "100%|██████████| 100/100 [00:00<00:00, 15903.78it/s]\n"
     ]
    },
    {
     "name": "stdout",
     "output_type": "stream",
     "text": [
      "Accuracy for 5-d-MUL_evaluation_results.csv: 0.00%\n",
      "Results for /Users/ashish/Documents/academic/fall24/nlp/project/arithmetic-ood/algd/gemma-2b-it/multiply/5-d-MUL_evaluation_results.csv saved to /Users/ashish/Documents/academic/fall24/nlp/project/arithmetic-ood/algd/gemma-2b-it/multiply/5-d-MUL_evaluation_results.csv\n"
     ]
    },
    {
     "name": "stderr",
     "output_type": "stream",
     "text": [
      "100%|██████████| 100/100 [00:00<00:00, 29155.46it/s]\n"
     ]
    },
    {
     "name": "stdout",
     "output_type": "stream",
     "text": [
      "Accuracy for 6-d-MUL_evaluation_results.csv: 0.00%\n",
      "Results for /Users/ashish/Documents/academic/fall24/nlp/project/arithmetic-ood/algd/gemma-2b-it/multiply/6-d-MUL_evaluation_results.csv saved to /Users/ashish/Documents/academic/fall24/nlp/project/arithmetic-ood/algd/gemma-2b-it/multiply/6-d-MUL_evaluation_results.csv\n"
     ]
    },
    {
     "name": "stderr",
     "output_type": "stream",
     "text": [
      "100%|██████████| 100/100 [00:00<00:00, 18780.75it/s]\n"
     ]
    },
    {
     "name": "stdout",
     "output_type": "stream",
     "text": [
      "Accuracy for 3-d-MUL_evaluation_results.csv: 1.00%\n",
      "Results for /Users/ashish/Documents/academic/fall24/nlp/project/arithmetic-ood/algd/gemma-2b-it/multiply/3-d-MUL_evaluation_results.csv saved to /Users/ashish/Documents/academic/fall24/nlp/project/arithmetic-ood/algd/gemma-2b-it/multiply/3-d-MUL_evaluation_results.csv\n"
     ]
    },
    {
     "name": "stderr",
     "output_type": "stream",
     "text": [
      "100%|██████████| 100/100 [00:00<00:00, 19421.67it/s]\n"
     ]
    },
    {
     "name": "stdout",
     "output_type": "stream",
     "text": [
      "Accuracy for 2-d-MUL_evaluation_results.csv: 27.00%\n",
      "Results for /Users/ashish/Documents/academic/fall24/nlp/project/arithmetic-ood/algd/gemma-2b-it/multiply/2-d-MUL_evaluation_results.csv saved to /Users/ashish/Documents/academic/fall24/nlp/project/arithmetic-ood/algd/gemma-2b-it/multiply/2-d-MUL_evaluation_results.csv\n"
     ]
    },
    {
     "name": "stderr",
     "output_type": "stream",
     "text": [
      "100%|██████████| 100/100 [00:00<00:00, 18555.58it/s]\n"
     ]
    },
    {
     "name": "stdout",
     "output_type": "stream",
     "text": [
      "Accuracy for 1-d-MUL_evaluation_results.csv: 100.00%\n",
      "Results for /Users/ashish/Documents/academic/fall24/nlp/project/arithmetic-ood/algd/gemma-2b-it/multiply/1-d-MUL_evaluation_results.csv saved to /Users/ashish/Documents/academic/fall24/nlp/project/arithmetic-ood/algd/gemma-2b-it/multiply/1-d-MUL_evaluation_results.csv\n"
     ]
    },
    {
     "name": "stderr",
     "output_type": "stream",
     "text": [
      "100%|██████████| 100/100 [00:00<00:00, 14960.42it/s]\n"
     ]
    },
    {
     "name": "stdout",
     "output_type": "stream",
     "text": [
      "Accuracy for 7-d-MUL_evaluation_results.csv: 0.00%\n",
      "Results for /Users/ashish/Documents/academic/fall24/nlp/project/arithmetic-ood/algd/gemma-2b-it/multiply/7-d-MUL_evaluation_results.csv saved to /Users/ashish/Documents/academic/fall24/nlp/project/arithmetic-ood/algd/gemma-2b-it/multiply/7-d-MUL_evaluation_results.csv\n"
     ]
    },
    {
     "name": "stderr",
     "output_type": "stream",
     "text": [
      "100%|██████████| 100/100 [00:00<00:00, 28119.50it/s]"
     ]
    },
    {
     "name": "stdout",
     "output_type": "stream",
     "text": [
      "Accuracy for 4-d-MUL_evaluation_results.csv: 0.00%\n",
      "Results for /Users/ashish/Documents/academic/fall24/nlp/project/arithmetic-ood/algd/gemma-2b-it/multiply/4-d-MUL_evaluation_results.csv saved to /Users/ashish/Documents/academic/fall24/nlp/project/arithmetic-ood/algd/gemma-2b-it/multiply/4-d-MUL_evaluation_results.csv\n"
     ]
    },
    {
     "name": "stderr",
     "output_type": "stream",
     "text": [
      "\n"
     ]
    }
   ],
   "source": [
    "for file_path in multiplication_files:\n",
    "    try:\n",
    "        fix_results(file_path)\n",
    "    except Exception as e:\n",
    "        print(f\"Error processing {file_path}\")\n",
    "        print(e)"
   ]
  },
  {
   "cell_type": "code",
   "execution_count": 34,
   "metadata": {},
   "outputs": [],
   "source": [
    "results_dir = Path('/Users/ashish/Documents/academic/fall24/nlp/project/arithmetic-ood/algd/llama-3.1-8b/')\n",
    "addition_results_dir = results_dir / 'add'\n",
    "multiplication_results_dir = results_dir / 'multiply'\n",
    "\n",
    "# get all csv files in the addition_results directory\n",
    "addition_files = sorted(list(addition_results_dir.glob('*.csv')))\n",
    "multiplication_files = sorted(list(multiplication_results_dir.glob('*.csv')))"
   ]
  },
  {
   "cell_type": "code",
   "execution_count": 37,
   "metadata": {},
   "outputs": [
    {
     "name": "stdout",
     "output_type": "stream",
     "text": [
      "The rows of 8 stars have a total of: 3 rows * 8 stars/row = <<3*8=24>>24 stars.\n",
      "The rows of 6 stars have a total of: 2 rows * 6 stars/row = <<2*6=12>>12 stars.\n",
      "Including the rows of 8 and 6 stars, we have 24 stars + 12 stars = <<24+12=36>>36 stars.\n",
      "Now we need to know how many stars are missing, 76 stars - 36 stars = <<76-36=40>>40 stars.\n",
      "Now we need to distribute the missing stars in rows of 5 stars, 40 stars/5 rows = <<40/5=8>>8 rows of 5 stars.\n",
      "#### 8\n"
     ]
    }
   ],
   "source": [
    "answer = \"The rows of 8 stars have a total of: 3 rows * 8 stars/row = <<3*8=24>>24 stars.\\nThe rows of 6 stars have a total of: 2 rows * 6 stars/row = <<2*6=12>>12 stars.\\nIncluding the rows of 8 and 6 stars, we have 24 stars + 12 stars = <<24+12=36>>36 stars.\\nNow we need to know how many stars are missing, 76 stars - 36 stars = <<76-36=40>>40 stars.\\nNow we need to distribute the missing stars in rows of 5 stars, 40 stars/5 rows = <<40/5=8>>8 rows of 5 stars.\\n#### 8\"\n",
    "print(answer)"
   ]
  },
  {
   "cell_type": "code",
   "execution_count": 36,
   "metadata": {},
   "outputs": [
    {
     "name": "stderr",
     "output_type": "stream",
     "text": [
      "100%|██████████| 100/100 [00:00<00:00, 19451.39it/s]\n"
     ]
    },
    {
     "name": "stdout",
     "output_type": "stream",
     "text": [
      "Accuracy for 1-d-add_evaluation_results.csv: 100.00%\n",
      "Results for /Users/ashish/Documents/academic/fall24/nlp/project/arithmetic-ood/algd/llama-3.1-8b/add/1-d-add_evaluation_results.csv saved to /Users/ashish/Documents/academic/fall24/nlp/project/arithmetic-ood/algd/llama-3.1-8b/add/1-d-add_evaluation_results.csv\n"
     ]
    },
    {
     "name": "stderr",
     "output_type": "stream",
     "text": [
      "100%|██████████| 100/100 [00:00<00:00, 27767.65it/s]\n"
     ]
    },
    {
     "name": "stdout",
     "output_type": "stream",
     "text": [
      "Accuracy for 2-d-add_evaluation_results.csv: 100.00%\n",
      "Results for /Users/ashish/Documents/academic/fall24/nlp/project/arithmetic-ood/algd/llama-3.1-8b/add/2-d-add_evaluation_results.csv saved to /Users/ashish/Documents/academic/fall24/nlp/project/arithmetic-ood/algd/llama-3.1-8b/add/2-d-add_evaluation_results.csv\n"
     ]
    },
    {
     "name": "stderr",
     "output_type": "stream",
     "text": [
      "100%|██████████| 100/100 [00:00<00:00, 27811.84it/s]\n"
     ]
    },
    {
     "name": "stdout",
     "output_type": "stream",
     "text": [
      "Accuracy for 3-d-add_evaluation_results.csv: 97.00%\n",
      "Results for /Users/ashish/Documents/academic/fall24/nlp/project/arithmetic-ood/algd/llama-3.1-8b/add/3-d-add_evaluation_results.csv saved to /Users/ashish/Documents/academic/fall24/nlp/project/arithmetic-ood/algd/llama-3.1-8b/add/3-d-add_evaluation_results.csv\n"
     ]
    },
    {
     "name": "stderr",
     "output_type": "stream",
     "text": [
      "100%|██████████| 100/100 [00:00<00:00, 19731.40it/s]\n"
     ]
    },
    {
     "name": "stdout",
     "output_type": "stream",
     "text": [
      "Accuracy for 4-d-add_evaluation_results.csv: 97.00%\n",
      "Results for /Users/ashish/Documents/academic/fall24/nlp/project/arithmetic-ood/algd/llama-3.1-8b/add/4-d-add_evaluation_results.csv saved to /Users/ashish/Documents/academic/fall24/nlp/project/arithmetic-ood/algd/llama-3.1-8b/add/4-d-add_evaluation_results.csv\n"
     ]
    },
    {
     "name": "stderr",
     "output_type": "stream",
     "text": [
      "100%|██████████| 100/100 [00:00<00:00, 14965.76it/s]\n"
     ]
    },
    {
     "name": "stdout",
     "output_type": "stream",
     "text": [
      "Accuracy for 5-d-add_evaluation_results.csv: 91.00%\n",
      "Results for /Users/ashish/Documents/academic/fall24/nlp/project/arithmetic-ood/algd/llama-3.1-8b/add/5-d-add_evaluation_results.csv saved to /Users/ashish/Documents/academic/fall24/nlp/project/arithmetic-ood/algd/llama-3.1-8b/add/5-d-add_evaluation_results.csv\n"
     ]
    },
    {
     "name": "stderr",
     "output_type": "stream",
     "text": [
      "100%|██████████| 100/100 [00:00<00:00, 20533.14it/s]\n"
     ]
    },
    {
     "name": "stdout",
     "output_type": "stream",
     "text": [
      "Accuracy for 6-d-add_evaluation_results.csv: 96.00%\n",
      "Results for /Users/ashish/Documents/academic/fall24/nlp/project/arithmetic-ood/algd/llama-3.1-8b/add/6-d-add_evaluation_results.csv saved to /Users/ashish/Documents/academic/fall24/nlp/project/arithmetic-ood/algd/llama-3.1-8b/add/6-d-add_evaluation_results.csv\n"
     ]
    },
    {
     "name": "stderr",
     "output_type": "stream",
     "text": [
      "100%|██████████| 100/100 [00:00<00:00, 17254.12it/s]\n"
     ]
    },
    {
     "name": "stdout",
     "output_type": "stream",
     "text": [
      "Accuracy for 7-d-add_evaluation_results.csv: 82.00%\n",
      "Results for /Users/ashish/Documents/academic/fall24/nlp/project/arithmetic-ood/algd/llama-3.1-8b/add/7-d-add_evaluation_results.csv saved to /Users/ashish/Documents/academic/fall24/nlp/project/arithmetic-ood/algd/llama-3.1-8b/add/7-d-add_evaluation_results.csv\n"
     ]
    },
    {
     "name": "stderr",
     "output_type": "stream",
     "text": [
      "100%|██████████| 100/100 [00:00<00:00, 15646.89it/s]\n"
     ]
    },
    {
     "name": "stdout",
     "output_type": "stream",
     "text": [
      "Accuracy for 1-d-MUL_evaluation_results.csv: 100.00%\n",
      "Results for /Users/ashish/Documents/academic/fall24/nlp/project/arithmetic-ood/algd/llama-3.1-8b/multiply/1-d-MUL_evaluation_results.csv saved to /Users/ashish/Documents/academic/fall24/nlp/project/arithmetic-ood/algd/llama-3.1-8b/multiply/1-d-MUL_evaluation_results.csv\n"
     ]
    },
    {
     "name": "stderr",
     "output_type": "stream",
     "text": [
      "100%|██████████| 100/100 [00:00<00:00, 21049.40it/s]\n"
     ]
    },
    {
     "name": "stdout",
     "output_type": "stream",
     "text": [
      "Accuracy for 2-d-MUL_evaluation_results.csv: 83.00%\n",
      "Results for /Users/ashish/Documents/academic/fall24/nlp/project/arithmetic-ood/algd/llama-3.1-8b/multiply/2-d-MUL_evaluation_results.csv saved to /Users/ashish/Documents/academic/fall24/nlp/project/arithmetic-ood/algd/llama-3.1-8b/multiply/2-d-MUL_evaluation_results.csv\n"
     ]
    },
    {
     "name": "stderr",
     "output_type": "stream",
     "text": [
      "100%|██████████| 100/100 [00:00<00:00, 22993.83it/s]\n"
     ]
    },
    {
     "name": "stdout",
     "output_type": "stream",
     "text": [
      "Accuracy for 3-d-MUL_evaluation_results.csv: 17.00%\n",
      "Results for /Users/ashish/Documents/academic/fall24/nlp/project/arithmetic-ood/algd/llama-3.1-8b/multiply/3-d-MUL_evaluation_results.csv saved to /Users/ashish/Documents/academic/fall24/nlp/project/arithmetic-ood/algd/llama-3.1-8b/multiply/3-d-MUL_evaluation_results.csv\n"
     ]
    },
    {
     "name": "stderr",
     "output_type": "stream",
     "text": [
      "100%|██████████| 100/100 [00:00<00:00, 16540.36it/s]\n"
     ]
    },
    {
     "name": "stdout",
     "output_type": "stream",
     "text": [
      "Accuracy for 4-d-MUL_evaluation_results.csv: 2.00%\n",
      "Results for /Users/ashish/Documents/academic/fall24/nlp/project/arithmetic-ood/algd/llama-3.1-8b/multiply/4-d-MUL_evaluation_results.csv saved to /Users/ashish/Documents/academic/fall24/nlp/project/arithmetic-ood/algd/llama-3.1-8b/multiply/4-d-MUL_evaluation_results.csv\n"
     ]
    },
    {
     "name": "stderr",
     "output_type": "stream",
     "text": [
      "100%|██████████| 100/100 [00:00<00:00, 17262.64it/s]\n"
     ]
    },
    {
     "name": "stdout",
     "output_type": "stream",
     "text": [
      "Accuracy for 5-d-MUL_evaluation_results.csv: 0.00%\n",
      "Results for /Users/ashish/Documents/academic/fall24/nlp/project/arithmetic-ood/algd/llama-3.1-8b/multiply/5-d-MUL_evaluation_results.csv saved to /Users/ashish/Documents/academic/fall24/nlp/project/arithmetic-ood/algd/llama-3.1-8b/multiply/5-d-MUL_evaluation_results.csv\n"
     ]
    },
    {
     "name": "stderr",
     "output_type": "stream",
     "text": [
      "100%|██████████| 100/100 [00:00<00:00, 22651.10it/s]\n"
     ]
    },
    {
     "name": "stdout",
     "output_type": "stream",
     "text": [
      "Accuracy for 6-d-MUL_evaluation_results.csv: 0.00%\n",
      "Results for /Users/ashish/Documents/academic/fall24/nlp/project/arithmetic-ood/algd/llama-3.1-8b/multiply/6-d-MUL_evaluation_results.csv saved to /Users/ashish/Documents/academic/fall24/nlp/project/arithmetic-ood/algd/llama-3.1-8b/multiply/6-d-MUL_evaluation_results.csv\n"
     ]
    },
    {
     "name": "stderr",
     "output_type": "stream",
     "text": [
      "100%|██████████| 100/100 [00:00<00:00, 14700.87it/s]"
     ]
    },
    {
     "name": "stdout",
     "output_type": "stream",
     "text": [
      "Accuracy for 7-d-MUL_evaluation_results.csv: 0.00%\n",
      "Results for /Users/ashish/Documents/academic/fall24/nlp/project/arithmetic-ood/algd/llama-3.1-8b/multiply/7-d-MUL_evaluation_results.csv saved to /Users/ashish/Documents/academic/fall24/nlp/project/arithmetic-ood/algd/llama-3.1-8b/multiply/7-d-MUL_evaluation_results.csv\n"
     ]
    },
    {
     "name": "stderr",
     "output_type": "stream",
     "text": [
      "\n"
     ]
    }
   ],
   "source": [
    "for file_path in addition_files + multiplication_files:\n",
    "    try:\n",
    "        fix_results(file_path)\n",
    "    except Exception as e:\n",
    "        print(f\"Error processing {file_path}\")\n",
    "        print(e)"
   ]
  },
  {
   "cell_type": "markdown",
   "metadata": {},
   "source": [
    "### Accuracy"
   ]
  },
  {
   "cell_type": "code",
   "execution_count": null,
   "metadata": {},
   "outputs": [],
   "source": [
    "results_dir = Path('/Users/ashish/Documents/academic/fall24/nlp/project/arithmetic-ood/algd/llama-3.1-8b/')\n",
    "addition_results_dir = results_dir / 'add'\n",
    "multiplication_results_dir = results_dir / 'multiply'\n",
    "\n",
    "# get all csv files in the addition_results directory\n",
    "addition_files = list(addition_results_dir.glob('*.csv'))\n",
    "multiplication_files = list(multiplication_results_dir.glob('*.csv'))\n",
    "\n",
    "# read the csv files into a list of dataframes\n",
    "addition_dfs = [pd.read_csv(file) for file in addition_files]\n",
    "multiplication_dfs = [pd.read_csv(file) for file in multiplication_files]"
   ]
  },
  {
   "cell_type": "markdown",
   "metadata": {},
   "source": [
    "### Digit Match plots"
   ]
  },
  {
   "cell_type": "code",
   "execution_count": 48,
   "metadata": {},
   "outputs": [],
   "source": [
    "# Function to compare digits up to the length of the shorter number\n",
    "def compare_digits(predicted, correct):\n",
    "    predicted_str = str(int(float(predicted)))\n",
    "    correct_str = str(int(float(correct)))\n",
    "    min_len = min(len(predicted_str), len(correct_str))\n",
    "\n",
    "    # Compare digits up to the length of the shorter number\n",
    "    digit_matches = [predicted_str[i] == correct_str[i] for i in range(min_len)]\n",
    "\n",
    "    return digit_matches"
   ]
  },
  {
   "cell_type": "code",
   "execution_count": 52,
   "metadata": {},
   "outputs": [
    {
     "name": "stdout",
     "output_type": "stream",
     "text": [
      "Saved digit matches to /Users/ashish/Documents/academic/fall24/nlp/project/arithmetic-ood/algd/llama-3.1-8b/add/digit_matches/3-d-add_evaluation_results_digit_matches.csv\n",
      "Saved digit matches to /Users/ashish/Documents/academic/fall24/nlp/project/arithmetic-ood/algd/llama-3.1-8b/add/digit_matches/5-d-add_evaluation_results_digit_matches.csv\n",
      "Saved digit matches to /Users/ashish/Documents/academic/fall24/nlp/project/arithmetic-ood/algd/llama-3.1-8b/add/digit_matches/6-d-add_evaluation_results_digit_matches.csv\n",
      "Saved digit matches to /Users/ashish/Documents/academic/fall24/nlp/project/arithmetic-ood/algd/llama-3.1-8b/add/digit_matches/7-d-add_evaluation_results_digit_matches.csv\n",
      "Saved digit matches to /Users/ashish/Documents/academic/fall24/nlp/project/arithmetic-ood/algd/llama-3.1-8b/add/digit_matches/4-d-add_evaluation_results_digit_matches.csv\n",
      "Saved digit matches to /Users/ashish/Documents/academic/fall24/nlp/project/arithmetic-ood/algd/llama-3.1-8b/add/digit_matches/2-d-add_evaluation_results_digit_matches.csv\n",
      "Saved digit matches to /Users/ashish/Documents/academic/fall24/nlp/project/arithmetic-ood/algd/llama-3.1-8b/add/digit_matches/1-d-add_evaluation_results_digit_matches.csv\n",
      "Saved digit matches to /Users/ashish/Documents/academic/fall24/nlp/project/arithmetic-ood/algd/llama-3.1-8b/multiply/digit_matches/5-d-MUL_evaluation_results_digit_matches.csv\n",
      "Saved digit matches to /Users/ashish/Documents/academic/fall24/nlp/project/arithmetic-ood/algd/llama-3.1-8b/multiply/digit_matches/6-d-MUL_evaluation_results_digit_matches.csv\n",
      "Saved digit matches to /Users/ashish/Documents/academic/fall24/nlp/project/arithmetic-ood/algd/llama-3.1-8b/multiply/digit_matches/3-d-MUL_evaluation_results_digit_matches.csv\n",
      "Saved digit matches to /Users/ashish/Documents/academic/fall24/nlp/project/arithmetic-ood/algd/llama-3.1-8b/multiply/digit_matches/2-d-MUL_evaluation_results_digit_matches.csv\n",
      "Saved digit matches to /Users/ashish/Documents/academic/fall24/nlp/project/arithmetic-ood/algd/llama-3.1-8b/multiply/digit_matches/1-d-MUL_evaluation_results_digit_matches.csv\n",
      "Saved digit matches to /Users/ashish/Documents/academic/fall24/nlp/project/arithmetic-ood/algd/llama-3.1-8b/multiply/digit_matches/7-d-MUL_evaluation_results_digit_matches.csv\n",
      "Saved digit matches to /Users/ashish/Documents/academic/fall24/nlp/project/arithmetic-ood/algd/llama-3.1-8b/multiply/digit_matches/4-d-MUL_evaluation_results_digit_matches.csv\n"
     ]
    }
   ],
   "source": [
    "from pathlib import Path\n",
    "\n",
    "results_dir = Path('/Users/ashish/Documents/academic/fall24/nlp/project/arithmetic-ood/algd/llama-3.1-8b/')\n",
    "addition_results_dir = results_dir / 'add'\n",
    "multiplication_results_dir = results_dir / 'multiply'\n",
    "\n",
    "# get all csv files in the addition_results directory\n",
    "addition_files = list(addition_results_dir.glob('*.csv'))\n",
    "multiplication_files = list(multiplication_results_dir.glob('*.csv'))\n",
    "\n",
    "# read the csv files into a list of dataframes\n",
    "addition_dfs = [pd.read_csv(file) for file in addition_files]\n",
    "multiplication_dfs = [pd.read_csv(file) for file in multiplication_files]\n",
    "\n",
    "digit_matches_dir = addition_results_dir / 'digit_matches'\n",
    "digit_matches_dir.mkdir(parents=True, exist_ok=True)\n",
    "\n",
    "for filename, df in zip(addition_files, addition_dfs):\n",
    "    for index, row in df.iterrows():\n",
    "        digit_matches = compare_digits(row['Predicted Answer'], row['Correct Answer'])\n",
    "        for i, match in enumerate(digit_matches):\n",
    "            column_name = f'Digit_{i+1}_Match'\n",
    "            df.at[index, column_name] = match\n",
    "\n",
    "    digit_matches_file = digit_matches_dir / Path(filename.stem + '_digit_matches.csv')\n",
    "\n",
    "    # Save the updated DataFrame to a new CSV file\n",
    "    df.to_csv(digit_matches_file, index=False)\n",
    "    print(f\"Saved digit matches to {digit_matches_file}\")\n",
    "\n",
    "digit_matches_dir = multiplication_results_dir / 'digit_matches'\n",
    "digit_matches_dir.mkdir(parents=True, exist_ok=True)\n",
    "\n",
    "for filename, df in zip(multiplication_files, multiplication_dfs):\n",
    "    for index, row in df.iterrows():\n",
    "        digit_matches = compare_digits(row['Predicted Answer'], row['Correct Answer'])\n",
    "        for i, match in enumerate(digit_matches):\n",
    "            column_name = f'Digit_{i+1}_Match'\n",
    "            df.at[index, column_name] = match\n",
    "\n",
    "    digit_matches_file = digit_matches_dir / Path(filename.stem + '_digit_matches.csv')\n",
    "\n",
    "    # Save the updated DataFrame to a new CSV file\n",
    "    df.to_csv(digit_matches_file, index=False)\n",
    "    print(f\"Saved digit matches to {digit_matches_file}\")"
   ]
  },
  {
   "cell_type": "code",
   "execution_count": 27,
   "metadata": {},
   "outputs": [],
   "source": [
    "import matplotlib.pyplot as plt"
   ]
  },
  {
   "cell_type": "code",
   "execution_count": 34,
   "metadata": {},
   "outputs": [
    {
     "data": {
      "image/png": "[encoded data removed]",
      "text/plain": [
       "<Figure size 1200x800 with 1 Axes>"
      ]
     },
     "metadata": {},
     "output_type": "display_data"
    }
   ],
   "source": [
    "results_csv = '/Users/ashish/Documents/academic/fall24/nlp/project/arithmetic-ood/algd/llama-3.1-8b/multiply/llama-3.1-8b-Instruct-7d-mul_digit_matches.csv'\n",
    "\n",
    "df = pd.read_csv(results_csv)\n",
    "df_matches = df.copy()  # create a copy\n",
    "\n",
    "# Extract digit match columns\n",
    "digit_match_columns = [col for col in df_matches.columns if col.startswith('Digit_')]\n",
    "\n",
    "# Initialize dictionaries to store counts\n",
    "true_counts = {}\n",
    "false_counts = {}\n",
    "nan_counts = {}\n",
    "\n",
    "# Count True, False, and NaN values for each digit match column\n",
    "for col in digit_match_columns:\n",
    "    true_counts[col] = df_matches[col].sum()\n",
    "    false_counts[col] = df_matches[col].count() - df_matches[col].sum()\n",
    "    nan_counts[col] = df_matches[col].isna().sum()\n",
    "\n",
    "# Plot the data\n",
    "x = range(len(digit_match_columns))\n",
    "width = 0.5  # width of the bars\n",
    "\n",
    "plt.figure(figsize=(12, 8))\n",
    "# plt.bar(x, [true_counts[col] for col in digit_match_columns], label='True', color='g', width=width)\n",
    "# plt.bar(x, [false_counts[col] for col in digit_match_columns], bottom=[true_counts[col] for col in digit_match_columns], label='False', color='r', width=width)\n",
    "# plt.bar(x, [nan_counts[col] for col in digit_match_columns], bottom=[true_counts[col] + false_counts[col] for col in digit_match_columns], label='NaN', color='b', width=width)\n",
    "\n",
    "plt.bar(x, [true_counts[col] for col in digit_match_columns], label='Predicted digit == ground truth digit', color='g', width=width)\n",
    "plt.bar(x, [nan_counts[col] for col in digit_match_columns], bottom=[true_counts[col] for col in digit_match_columns], label='no predicted digit at position (short prediction)', color='b', width=width)\n",
    "\n",
    "plt.xlabel('Digit Position')\n",
    "plt.ylabel('Count')\n",
    "# plt.title('% of matches for each digit position')\n",
    "plt.title('Llama-3.1-70B-Instruct')\n",
    "plt.xticks(x, digit_match_columns, rotation=45)\n",
    "plt.legend()\n",
    "plt.grid(axis='y')\n",
    "\n",
    "# Show the plot\n",
    "plt.tight_layout()\n",
    "plt.show()"
   ]
  }
 ],
 "metadata": {
  "kernelspec": {
   "display_name": ".venv",
   "language": "python",
   "name": "python3"
  },
  "language_info": {
   "codemirror_mode": {
    "name": "ipython",
    "version": 3
   },
   "file_extension": ".py",
   "mimetype": "text/x-python",
   "name": "python",
   "nbconvert_exporter": "python",
   "pygments_lexer": "ipython3",
   "version": "3.13.1"
  }
 },
 "nbformat": 4,
 "nbformat_minor": 2
}
